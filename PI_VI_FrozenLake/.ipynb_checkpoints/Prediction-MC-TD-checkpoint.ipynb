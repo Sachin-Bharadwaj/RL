{
 "cells": [
  {
   "cell_type": "markdown",
   "metadata": {},
   "source": [
    "### Prediction (estimating state value function of a policy) when MDP is not known\n",
    " - First visit Monte Carlo (FVMC)\n",
    " - Every visit MC (EVMC)\n",
    " - TD(0)\n",
    " - TD($\\lambda$)\n",
    " \n",
    "*Again we will use FrozenLake 8x8  stochastic environment*\n",
    " "
   ]
  },
  {
   "cell_type": "markdown",
   "metadata": {},
   "source": [
    "### First visit Monte Carlo (FVMC)\n",
    "- For ep in range(num_episode), do\n",
    "    - Roll out complete trajectory (till the e/o episode or horizon), trajectory is a sequence of tuples\n",
    "    $$ (S_{t},A_{t},R_{t+1}), (S_{t+1},A_{t+1},R_{t+2}), .... (S_{T-1},A_{T-1},R_{T})$$\n",
    "    - For each experience in the trajectory, do\n",
    "        - check if the state is visited earlier, if yes then go to next experience in the trajectory (i.e use continue)\n",
    "        - Otherwise, calculate the discounted return for this state , this will be the FVMC target for this state\n",
    "        $$G_{t:T} = R_{t+1} + \\gamma R_{t+2} + \\gamma^{2}R_{t+3} + ....+ \\gamma^{T-1}R_{T} $$\n",
    "        - update the state value function for the state,s\n",
    "        $$ V_{T}(S_{t}) = V_{T-1}(S_{t}) + \\alpha_{t} (G_{t:T} - V_{T-1}(S_{t})) $$\n",
    "        - NOTE: learning rate $\\alpha$ can be constant or time varying"
   ]
  },
  {
   "cell_type": "code",
   "execution_count": 5,
   "metadata": {},
   "outputs": [],
   "source": [
    "import gym\n",
    "import numpy as np\n",
    "from matplotlib import pyplot as plt\n",
    "from tqdm import tqdm\n",
    "%matplotlib inline\n",
    "\n",
    "np.random.seed(0)"
   ]
  },
  {
   "cell_type": "code",
   "execution_count": 6,
   "metadata": {},
   "outputs": [],
   "source": [
    "env = gym.make(\"FrozenLake8x8-v0\")"
   ]
  },
  {
   "cell_type": "code",
   "execution_count": 9,
   "metadata": {},
   "outputs": [],
   "source": [
    "def gen_trajectory(pi, env, maxsteps):\n",
    "    '''\n",
    "    [1] pi: policy\n",
    "    [2] env: environment\n",
    "    [3] maxsteps: maximum number of steps to be taken\n",
    "    '''\n",
    "    done = False\n",
    "    stepcount = 0\n",
    "    s = env.reset()\n",
    "    trajectory = []\n",
    "    while not done:\n",
    "        stepcount += 1\n",
    "        next_state, reward, done, info = env.step(pi[s])\n",
    "        experience = (s, pi[s], reward, next_state, done)\n",
    "        trajectory.append(experience)\n",
    "        if done or stepcount >= maxsteps:\n",
    "            break\n",
    "        s = next_state\n",
    "    return trajectory"
   ]
  },
  {
   "cell_type": "code",
   "execution_count": 10,
   "metadata": {},
   "outputs": [],
   "source": [
    "def learningrate_schedule(start_alpha, min_alpha, max_episodes):\n",
    "    '''\n",
    "    [1] start_alpha :learning rate at the start of episode\n",
    "    [2] min_alpha: minimum learning rate\n",
    "    [3] max_episodes: maximum number of episodes\n",
    "    '''    \n",
    "    t = np.arange(0,max_episodes)\n",
    "    alpha_s, alpha_f  = start_alpha, min_alpha\n",
    "    assert max_episodes > 1\n",
    "    alpha_sch = alpha_s * (alpha_f/alpha_s)**(t/(max_episodes-1))\n",
    "    return alpha_sch\n",
    "test = 0\n",
    "if test==1:\n",
    "    alpha_sch = learningrate_schedule(start_alpha=0.6, min_alpha=0.1, max_episodes=1000)\n",
    "    plt.figure()\n",
    "    plt.plot(alpha_sch)"
   ]
  },
  {
   "cell_type": "code",
   "execution_count": 7,
   "metadata": {},
   "outputs": [],
   "source": [
    "def MC_prediction(pi, env, gamma=1.0, start_alpha=0.5, min_alpha=0.1, max_episodes=1000, maxsteps=200, first_visit=True):\n",
    "    '''\n",
    "    [1] pi: policy which needs to be evaluated\n",
    "    [2] env: environment\n",
    "    [3] gamma: discount factor\n",
    "    [4] min_alpha: minimum learning rate\n",
    "    [5] max_episodes: maximum episodes for MC\n",
    "    [6] maxsteps: maximum number of steps for trajectory generation\n",
    "    [7] first_visit: boolean flag to indicate First Visit version of MC prediction\n",
    "    '''\n",
    "    nS = len(pi)\n",
    "    V = np.zeros(nS)\n",
    "    V_track = np.zeros((max_episodes, nS)) # value function snapshot  for every episode, just for vis purpose\n",
    "    \n",
    "    # generate learning rate schedule \n",
    "    alpha_sch = learningrate_schedule(start_alpha, min_alpha, max_episodes) # this will be exponential decay schedule\n",
    "    \n",
    "    for ep in tqdm(range(max_episodes)):\n",
    "        # generate trajectory\n",
    "        trajectory = gen_trajectory(pi, env, maxsteps)\n",
    "        visited = np.zeros(nS, dtype=np.bool) # reset the visited flag\n",
    "        for t, experience in enumerate(trajectory):\n",
    "            state, action, reward, next_state, _ = experience\n",
    "            if visited[state]==1 and first_visit:\n",
    "                continue\n",
    "            visited[state] = True\n",
    "            # compute the discounted return\n",
    "            num_steps = len(trajectory[t:])\n",
    "            gamma_seq = gamma**(np.arange(0,num_steps))\n",
    "            #print(gamma_seq)\n",
    "            #print(trajectory)\n",
    "            #print(trajectory[t:])\n",
    "            reward_list = np.array([experience[2] for experience in trajectory[t:]])\n",
    "            returns = np.sum(gamma_seq * reward_list) #G_{t:T} = sum( gamma_seq * undiscounted returns )\n",
    "            #print(returns)\n",
    "            # update the state value \n",
    "            V[state] = V[state] + alpha_sch[ep] * (returns - V[state])\n",
    "        # update V_track at the end of every episode\n",
    "        V_track[ep,:] = V\n",
    "        #print(f\"episode :{ep}\")\n",
    "        \n",
    "    return V, V_track, alpha_sch            "
   ]
  },
  {
   "cell_type": "code",
   "execution_count": 7,
   "metadata": {},
   "outputs": [],
   "source": [
    "# converged policy taken from value iteration output of other notebook\n",
    "pi = {0: 3,\n",
    " 1: 2,\n",
    " 2: 2,\n",
    " 3: 2,\n",
    " 4: 2,\n",
    " 5: 2,\n",
    " 6: 2,\n",
    " 7: 2,\n",
    " 8: 3,\n",
    " 9: 3,\n",
    " 10: 3,\n",
    " 11: 3,\n",
    " 12: 3,\n",
    " 13: 3,\n",
    " 14: 2,\n",
    " 15: 1,\n",
    " 16: 3,\n",
    " 17: 3,\n",
    " 18: 0,\n",
    " 19: 0,\n",
    " 20: 2,\n",
    " 21: 3,\n",
    " 22: 2,\n",
    " 23: 2,\n",
    " 24: 3,\n",
    " 25: 3,\n",
    " 26: 0,\n",
    " 27: 1,\n",
    " 28: 0,\n",
    " 29: 0,\n",
    " 30: 2,\n",
    " 31: 2,\n",
    " 32: 3,\n",
    " 33: 3,\n",
    " 34: 0,\n",
    " 35: 0,\n",
    " 36: 2,\n",
    " 37: 1,\n",
    " 38: 3,\n",
    " 39: 2,\n",
    " 40: 0,\n",
    " 41: 0,\n",
    " 42: 0,\n",
    " 43: 1,\n",
    " 44: 3,\n",
    " 45: 0,\n",
    " 46: 0,\n",
    " 47: 2,\n",
    " 48: 0,\n",
    " 49: 0,\n",
    " 50: 1,\n",
    " 51: 0,\n",
    " 52: 0,\n",
    " 53: 0,\n",
    " 54: 0,\n",
    " 55: 2,\n",
    " 56: 0,\n",
    " 57: 1,\n",
    " 58: 0,\n",
    " 59: 0,\n",
    " 60: 1,\n",
    " 61: 2,\n",
    " 62: 1,\n",
    " 63: 0}"
   ]
  },
  {
   "cell_type": "code",
   "execution_count": 19,
   "metadata": {},
   "outputs": [
    {
     "name": "stderr",
     "output_type": "stream",
     "text": [
      "100%|█████████████████████████████████████████████████████████████████████████| 100000/100000 [02:55<00:00, 569.83it/s]\n"
     ]
    }
   ],
   "source": [
    "V, V_track, alpha_sch = MC_prediction(pi, env, gamma=1.0, start_alpha=0.5, min_alpha=0.1, \\\n",
    "                                      max_episodes=1_00_000, maxsteps=200, first_visit=True)"
   ]
  },
  {
   "cell_type": "code",
   "execution_count": 20,
   "metadata": {},
   "outputs": [
    {
     "data": {
      "text/plain": [
       "array([0.84726467, 0.84726467, 0.82507051, 0.84568383, 0.82333522,\n",
       "       0.82641548, 0.80247592, 0.77206907, 0.89211118, 0.87199503,\n",
       "       0.81047915, 0.81981263, 0.8258231 , 0.82716269, 0.84669898,\n",
       "       0.8367166 , 0.54719225, 0.66412603, 0.57221886, 0.        ,\n",
       "       0.67614999, 0.65216787, 0.80371119, 0.83716981, 0.294185  ,\n",
       "       0.54276224, 0.47042673, 0.32928365, 0.42565954, 0.        ,\n",
       "       0.80496298, 0.84539764, 0.37387846, 0.52489542, 0.27604414,\n",
       "       0.        , 0.48080822, 0.45938133, 0.80062694, 0.85356822,\n",
       "       0.49226319, 0.        , 0.        , 0.07933763, 0.18942536,\n",
       "       0.36654757, 0.        , 0.85894861, 0.49226319, 0.        ,\n",
       "       0.0897472 , 0.02383495, 0.        , 0.38123116, 0.        ,\n",
       "       0.95891577, 0.49226319, 0.3590764 , 0.23097714, 0.        ,\n",
       "       0.        , 0.65373281, 0.87500939, 0.        ])"
      ]
     },
     "execution_count": 20,
     "metadata": {},
     "output_type": "execute_result"
    }
   ],
   "source": [
    "V"
   ]
  },
  {
   "cell_type": "code",
   "execution_count": 21,
   "metadata": {},
   "outputs": [
    {
     "data": {
      "text/plain": [
       "<matplotlib.colorbar.Colorbar at 0x1cf9335f888>"
      ]
     },
     "execution_count": 21,
     "metadata": {},
     "output_type": "execute_result"
    },
    {
     "data": {
      "image/png": "[encoded data removed]",
      "text/plain": [
       "<Figure size 432x288 with 2 Axes>"
      ]
     },
     "metadata": {
      "needs_background": "light"
     },
     "output_type": "display_data"
    }
   ],
   "source": [
    "plt.figure()\n",
    "plt.imshow(V.reshape(8,8))\n",
    "plt.colorbar()"
   ]
  },
  {
   "cell_type": "code",
   "execution_count": 22,
   "metadata": {},
   "outputs": [
    {
     "data": {
      "text/plain": [
       "array([[0.5       , 0.5       , 0.5       , ..., 0.        , 0.        ,\n",
       "        0.        ],\n",
       "       [0.74999598, 0.74999598, 0.74999598, ..., 0.        , 0.        ,\n",
       "        0.        ],\n",
       "       [0.87499396, 0.87499396, 0.87499396, ..., 0.        , 0.        ,\n",
       "        0.        ],\n",
       "       ...,\n",
       "       [0.81143753, 0.81143753, 0.78403729, ..., 0.65373281, 0.87500939,\n",
       "        0.        ],\n",
       "       [0.83029408, 0.83029408, 0.8056339 , ..., 0.65373281, 0.87500939,\n",
       "        0.        ],\n",
       "       [0.84726467, 0.84726467, 0.82507051, ..., 0.65373281, 0.87500939,\n",
       "        0.        ]])"
      ]
     },
     "execution_count": 22,
     "metadata": {},
     "output_type": "execute_result"
    }
   ],
   "source": [
    "V_track"
   ]
  },
  {
   "cell_type": "code",
   "execution_count": 23,
   "metadata": {},
   "outputs": [],
   "source": [
    "mean, std = np.mean(V_track, axis=0),  np.std(V_track, axis=0)"
   ]
  },
  {
   "cell_type": "code",
   "execution_count": 24,
   "metadata": {},
   "outputs": [
    {
     "data": {
      "text/plain": [
       "<BarContainer object of 64 artists>"
      ]
     },
     "execution_count": 24,
     "metadata": {},
     "output_type": "execute_result"
    },
    {
     "data": {
      "image/png": "[encoded data removed]",
      "text/plain": [
       "<Figure size 432x288 with 1 Axes>"
      ]
     },
     "metadata": {
      "needs_background": "light"
     },
     "output_type": "display_data"
    }
   ],
   "source": [
    "plt.figure()\n",
    "plt.bar(np.arange(0,std.shape[0]), height=std)"
   ]
  },
  {
   "cell_type": "markdown",
   "metadata": {},
   "source": [
    "### Temporal Difference (TD)\n",
    "- MC requires to play the entire episode or some finite horizon\n",
    "- MC has more variance but unbiased estimates\n",
    "- TD on the other hand, bootstraps based on n-step estimates\n",
    "- TD has lower variance but its estimates are biased since it bootstraps based on estimates\n",
    "- TD does not require to play the entire episode till the end\n",
    "- TD(0): bootstraps based on 1step\n",
    "$$ V_{t+1}(S_{t}) = V_{t}(S_{t}) + \\alpha_{t} (R_{t+1} + \\gamma V_{t}(S_{t+1}) - V_{t}(S_{t})) $$"
   ]
  },
  {
   "cell_type": "code",
   "execution_count": 25,
   "metadata": {},
   "outputs": [],
   "source": [
    "# This function is specifically written for TD(0), only one step ahead\n",
    "# cell below has more generic implementation for  TD(n) for n steps ahead\n",
    "def TD_prediction(pi, env, gamma=1.0, start_alpha=0.5, min_alpha=0.1, max_episodes=1000, nsteps=1):\n",
    "    '''\n",
    "    [1] pi: policy which needs to be evaluated\n",
    "    [2] env: environment\n",
    "    [3] gamma: discount factor\n",
    "    [4] min_alpha: minimum learning rate\n",
    "    [5] max_episodes: maximum episodes for MC\n",
    "    [6] nsteps: number of steps in TD, if nsteps=1, then its is TD(0), nsteps=2, then it is TD(1) and so on...    \n",
    "    '''\n",
    "    nS = len(pi)\n",
    "    V = np.zeros(nS)\n",
    "    V_track = np.zeros((max_episodes, nS)) # value function snapshot  for every episode, just for vis purpose\n",
    "    \n",
    "    # generate learning rate schedule \n",
    "    alpha_sch = learningrate_schedule(start_alpha, min_alpha, max_episodes) # this will be exponential decay schedule\n",
    "    \n",
    "    for ep in tqdm(range(max_episodes)):\n",
    "        state, done = env.reset(), False\n",
    "        while not done:\n",
    "            action = pi[state]\n",
    "            next_state, reward, done, info = env.step(action)\n",
    "            target = reward + gamma * V[next_state] * (not done)\n",
    "            # update state value\n",
    "            V[state] = V[state] + alpha_sch[ep] *(target - V[state])\n",
    "            if done:\n",
    "                break\n",
    "            state = next_state\n",
    "            \n",
    "        V_track[ep,:] = V\n",
    "              \n",
    "                \n",
    "    return V, V_track, alpha_sch    "
   ]
  },
  {
   "cell_type": "code",
   "execution_count": 30,
   "metadata": {},
   "outputs": [],
   "source": [
    "def TD_prediction(pi, env, gamma=1.0, start_alpha=0.5, min_alpha=0.1, max_episodes=1000, nsteps=1):\n",
    "    '''\n",
    "    [1] pi: policy which needs to be evaluated\n",
    "    [2] env: environment\n",
    "    [3] gamma: discount factor\n",
    "    [4] min_alpha: minimum learning rate\n",
    "    [5] max_episodes: maximum episodes for MC\n",
    "    [6] nsteps: number of steps in TD, if nsteps=1, then its is TD(0), nsteps=2, then it is TD(1) and so on...    \n",
    "    '''\n",
    "    nS = len(pi)\n",
    "    V = np.zeros(nS)\n",
    "    V_track = np.zeros((max_episodes, nS)) # value function snapshot  for every episode, just for vis purpose\n",
    "    \n",
    "    # generate learning rate schedule \n",
    "    alpha_sch = learningrate_schedule(start_alpha, min_alpha, max_episodes) # this will be exponential decay schedule\n",
    "    \n",
    "    for ep in tqdm(range(max_episodes)):\n",
    "        state, done = env.reset(), False\n",
    "        \n",
    "        while not done:\n",
    "            discounted_reward = 0.0\n",
    "            experience = []\n",
    "            # collect experience for n steps\n",
    "            for i in range(nsteps):\n",
    "                action = pi[state]\n",
    "                next_state, reward, done, info = env.step(action)\n",
    "                experience.append((state, action, reward, next_state, done))\n",
    "                state = next_state\n",
    "                                \n",
    "                \n",
    "            reward_list = np.array([exp[2] for exp in experience])  \n",
    "            gamma_seq = gamma**(np.arange(0,nsteps))\n",
    "            discounted_reward = np.sum(gamma_seq * reward_list) + (gamma**(i+1)) * V[next_state] * (not done)\n",
    "            target = discounted_reward\n",
    "            # update state value\n",
    "            state_init = experience[0][0]\n",
    "            V[state_init] = V[state_init] + alpha_sch[ep] *(target - V[state_init])\n",
    "            if done:\n",
    "                break\n",
    "            #state = next_state\n",
    "            \n",
    "        V_track[ep,:] = V\n",
    "              \n",
    "                \n",
    "    return V, V_track, alpha_sch    "
   ]
  },
  {
   "cell_type": "code",
   "execution_count": 31,
   "metadata": {},
   "outputs": [
    {
     "name": "stderr",
     "output_type": "stream",
     "text": [
      "100%|███████████████████████████████████████████████████████████████████████████| 10000/10000 [00:36<00:00, 271.04it/s]\n"
     ]
    }
   ],
   "source": [
    "V, V_track, alpha_sch =TD_prediction(pi, env, gamma=1.0, start_alpha= 1.0, min_alpha=0.1, max_episodes=10_000, nsteps=1)"
   ]
  },
  {
   "cell_type": "code",
   "execution_count": 32,
   "metadata": {},
   "outputs": [
    {
     "data": {
      "text/plain": [
       "array([0.89455695, 0.89561694, 0.89831621, 0.89837567, 0.89733083,\n",
       "       0.89326198, 0.88500351, 0.88415395, 0.89114214, 0.89459545,\n",
       "       0.89657921, 0.8979995 , 0.89772145, 0.89218678, 0.88340814,\n",
       "       0.88561041, 0.87594517, 0.86280361, 0.83947827, 0.        ,\n",
       "       0.70511628, 0.84266409, 0.88052094, 0.89925367, 0.72940513,\n",
       "       0.76755328, 0.59687918, 0.32487893, 0.51672527, 0.        ,\n",
       "       0.87397969, 0.91481575, 0.41199378, 0.2648106 , 0.13267337,\n",
       "       0.        , 0.47051421, 0.52730723, 0.80530615, 0.93013534,\n",
       "       0.16161332, 0.        , 0.        , 0.12692301, 0.36047135,\n",
       "       0.43047347, 0.        , 0.9684812 , 0.04046131, 0.        ,\n",
       "       0.00772359, 0.03519025, 0.        , 0.4214017 , 0.        ,\n",
       "       0.98056805, 0.01581096, 0.00275491, 0.00176687, 0.        ,\n",
       "       0.        , 0.63005579, 0.82448945, 0.        ])"
      ]
     },
     "execution_count": 32,
     "metadata": {},
     "output_type": "execute_result"
    }
   ],
   "source": [
    "V"
   ]
  },
  {
   "cell_type": "code",
   "execution_count": 33,
   "metadata": {},
   "outputs": [
    {
     "data": {
      "text/plain": [
       "<matplotlib.colorbar.Colorbar at 0x1cf9354c508>"
      ]
     },
     "execution_count": 33,
     "metadata": {},
     "output_type": "execute_result"
    },
    {
     "data": {
      "image/png": "[encoded data removed]",
      "text/plain": [
       "<Figure size 432x288 with 2 Axes>"
      ]
     },
     "metadata": {
      "needs_background": "light"
     },
     "output_type": "display_data"
    }
   ],
   "source": [
    "plt.figure()\n",
    "plt.imshow(V.reshape(8,8))\n",
    "plt.colorbar()"
   ]
  },
  {
   "cell_type": "code",
   "execution_count": 34,
   "metadata": {},
   "outputs": [],
   "source": [
    "mean, std = np.mean(V_track, axis=0),  np.std(V_track, axis=0)"
   ]
  },
  {
   "cell_type": "code",
   "execution_count": 35,
   "metadata": {},
   "outputs": [
    {
     "data": {
      "text/plain": [
       "<BarContainer object of 64 artists>"
      ]
     },
     "execution_count": 35,
     "metadata": {},
     "output_type": "execute_result"
    },
    {
     "data": {
      "image/png": "[encoded data removed]",
      "text/plain": [
       "<Figure size 432x288 with 1 Axes>"
      ]
     },
     "metadata": {
      "needs_background": "light"
     },
     "output_type": "display_data"
    }
   ],
   "source": [
    "plt.figure()\n",
    "plt.bar(np.arange(0,std.shape[0]), height=std)"
   ]
  },
  {
   "cell_type": "markdown",
   "metadata": {},
   "source": [
    "### TD($\\lambda$) - Backward view\n",
    "- Combines both MC and TD(n)\n",
    "- No need to wait till the end of episode\n",
    "- Uses the concept of Eligibility traces"
   ]
  },
  {
   "cell_type": "markdown",
   "metadata": {},
   "source": [
    "#### TD($\\lambda$) summary\n",
    "Every new episode\n",
    "- set the eligibility trace vector to zero $E(s)=0$\n",
    "- collect experience based on policy for one step (state, action, reward, next_state, done)\n",
    "- Increment the eligibility of the starting state by 1, $ E(S_{t}) = E(S_{t}) + 1 $\n",
    "- Compute the target = $R_{t+1} + \\gamma V_{t}(S_{t+1})$\n",
    "- Compute TD error = target -$ V_{t}(S_{t}) $\n",
    "- Update all states (not the starting state) $V_{t+1} = V_{t} + \\alpha_{t} * TD error * E(s)$\n",
    "- Decay the Eligibility trace vector, $E_{t+1} = \\gamma \\lambda E_{t}$"
   ]
  },
  {
   "cell_type": "code",
   "execution_count": 3,
   "metadata": {},
   "outputs": [],
   "source": [
    "# this function implements the backward view of TD(/lambda)\n",
    "def TDlambda_prediction(pi, env, gamma=1.0, start_alpha=0.5, min_alpha=0.1, max_episodes=1000, nsteps=1, lambda_=0.3):\n",
    "    '''\n",
    "    [1] pi: policy which needs to be evaluated\n",
    "    [2] env: environment\n",
    "    [3] gamma: discount factor\n",
    "    [4] min_alpha: minimum learning rate\n",
    "    [5] max_episodes: maximum episodes for MC\n",
    "    [6] nsteps: number of steps in TD, if nsteps=1, then its is TD(0), nsteps=2, then it is TD(1) and so on... \n",
    "    [7] lambda_: weight mix-in factor in TD(lambda)\n",
    "    '''\n",
    "    nS = len(pi)\n",
    "    V = np.zeros(nS)\n",
    "    E = np.zeros(nS) # eligibility trace vector\n",
    "    V_track = np.zeros((max_episodes, nS)) # value function snapshot  for every episode, just for vis purpose\n",
    "    \n",
    "    # generate learning rate schedule \n",
    "    alpha_sch = learningrate_schedule(start_alpha, min_alpha, max_episodes) # this will be exponential decay schedule\n",
    "    \n",
    "    nS = len(pi)\n",
    "    V = np.zeros(nS)\n",
    "    V_track = np.zeros((max_episodes, nS)) # value function snapshot  for every episode, just for vis purpose\n",
    "    \n",
    "    # generate learning rate schedule \n",
    "    alpha_sch = learningrate_schedule(start_alpha, min_alpha, max_episodes) # this will be exponential decay schedule\n",
    "    \n",
    "    for ep in tqdm(range(max_episodes)):\n",
    "        state, done = env.reset(), False\n",
    "        E.fill(0) # reset Eligibility for new episode\n",
    "        while not done:\n",
    "            E[state] += 1\n",
    "            action = pi[state]\n",
    "            next_state, reward, done, info = env.step(action)\n",
    "            target = reward + gamma * V[next_state] * (not done)\n",
    "            # update state value for all states based on eligibility\n",
    "            V = V + alpha_sch[ep] *(target - V[state]) * E\n",
    "            # decay Eligibility vector\n",
    "            E  = lambda_ * alpha_sch[ep] * E\n",
    "            if done:\n",
    "                break\n",
    "            state = next_state\n",
    "            \n",
    "        V_track[ep,:] = V\n",
    "              \n",
    "                \n",
    "    return V, V_track, alpha_sch    "
   ]
  },
  {
   "cell_type": "code",
   "execution_count": 11,
   "metadata": {},
   "outputs": [
    {
     "name": "stderr",
     "output_type": "stream",
     "text": [
      "100%|███████████████████████████████████████████████████████████████████████████| 10000/10000 [01:36<00:00, 103.62it/s]\n"
     ]
    }
   ],
   "source": [
    "V, V_track, alpha_sch =TDlambda_prediction(pi, env, gamma=1.0, start_alpha= 1.0, min_alpha=0.1, max_episodes=10_000,\\\n",
    "                                           nsteps=1, lambda_=0.3)"
   ]
  },
  {
   "cell_type": "code",
   "execution_count": 12,
   "metadata": {},
   "outputs": [
    {
     "data": {
      "text/plain": [
       "array([0.9278529 , 0.9276958 , 0.92652693, 0.92320542, 0.91623187,\n",
       "       0.90746373, 0.89638385, 0.89639751, 0.92737072, 0.92762248,\n",
       "       0.9275655 , 0.92584421, 0.92177089, 0.90920429, 0.89164893,\n",
       "       0.89421705, 0.89618196, 0.87526067, 0.83023004, 0.        ,\n",
       "       0.75066289, 0.86306002, 0.8891652 , 0.90483284, 0.86505075,\n",
       "       0.8213322 , 0.63083935, 0.27147796, 0.5181125 , 0.        ,\n",
       "       0.87391513, 0.92820689, 0.50651212, 0.42962108, 0.35488867,\n",
       "       0.        , 0.42890543, 0.50901921, 0.7617069 , 0.94920434,\n",
       "       0.2813339 , 0.        , 0.        , 0.15758231, 0.30841452,\n",
       "       0.37472755, 0.        , 0.96377096, 0.12031961, 0.        ,\n",
       "       0.02146622, 0.04084331, 0.        , 0.33725126, 0.        ,\n",
       "       0.98368671, 0.08263933, 0.02002209, 0.00582414, 0.        ,\n",
       "       0.        , 0.52145634, 0.83105213, 0.        ])"
      ]
     },
     "execution_count": 12,
     "metadata": {},
     "output_type": "execute_result"
    }
   ],
   "source": [
    "V"
   ]
  },
  {
   "cell_type": "code",
   "execution_count": 13,
   "metadata": {},
   "outputs": [
    {
     "data": {
      "text/plain": [
       "<matplotlib.colorbar.Colorbar at 0x25d633df848>"
      ]
     },
     "execution_count": 13,
     "metadata": {},
     "output_type": "execute_result"
    },
    {
     "data": {
      "image/png": "[encoded data removed]",
      "text/plain": [
       "<Figure size 432x288 with 2 Axes>"
      ]
     },
     "metadata": {
      "needs_background": "light"
     },
     "output_type": "display_data"
    }
   ],
   "source": [
    "plt.figure()\n",
    "plt.imshow(V.reshape(8,8))\n",
    "plt.colorbar()"
   ]
  },
  {
   "cell_type": "code",
   "execution_count": 14,
   "metadata": {},
   "outputs": [],
   "source": [
    "mean, std = np.mean(V_track, axis=0),  np.std(V_track, axis=0)"
   ]
  },
  {
   "cell_type": "code",
   "execution_count": 15,
   "metadata": {},
   "outputs": [
    {
     "data": {
      "text/plain": [
       "<BarContainer object of 64 artists>"
      ]
     },
     "execution_count": 15,
     "metadata": {},
     "output_type": "execute_result"
    },
    {
     "data": {
      "image/png": "[encoded data removed]",
      "text/plain": [
       "<Figure size 432x288 with 1 Axes>"
      ]
     },
     "metadata": {
      "needs_background": "light"
     },
     "output_type": "display_data"
    }
   ],
   "source": [
    "plt.figure()\n",
    "plt.bar(np.arange(0,std.shape[0]), height=std)"
   ]
  },
  {
   "cell_type": "code",
   "execution_count": null,
   "metadata": {},
   "outputs": [],
   "source": []
  }
 ],
 "metadata": {
  "kernelspec": {
   "display_name": "Python 3",
   "language": "python",
   "name": "python3"
  },
  "language_info": {
   "codemirror_mode": {
    "name": "ipython",
    "version": 3
   },
   "file_extension": ".py",
   "mimetype": "text/x-python",
   "name": "python",
   "nbconvert_exporter": "python",
   "pygments_lexer": "ipython3",
   "version": "3.7.7"
  }
 },
 "nbformat": 4,
 "nbformat_minor": 4
}
